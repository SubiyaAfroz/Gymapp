{
 "cells": [
  {
   "cell_type": "code",
   "execution_count": 1,
   "id": "5dcaa320",
   "metadata": {},
   "outputs": [],
   "source": [
    "import numpy as np\n",
    "import pandas as pd\n",
    "from sklearn import metrics\n",
    "from sklearn.linear_model import LogisticRegression\n",
    "from sklearn.ensemble import RandomForestClassifier\n",
    "from sklearn.preprocessing import LabelEncoder\n"
   ]
  },
  {
   "cell_type": "code",
   "execution_count": 2,
   "id": "6ae04ce1",
   "metadata": {},
   "outputs": [],
   "source": [
    "data=pd.read_excel('dataGYM.xlsx')"
   ]
  },
  {
   "cell_type": "code",
   "execution_count": 3,
   "id": "cd212b00",
   "metadata": {},
   "outputs": [
    {
     "name": "stdout",
     "output_type": "stream",
     "text": [
      "<class 'pandas.core.frame.DataFrame'>\n",
      "RangeIndex: 1176 entries, 0 to 1175\n",
      "Data columns (total 7 columns):\n",
      " #   Column      Non-Null Count  Dtype  \n",
      "---  ------      --------------  -----  \n",
      " 0   Age         1176 non-null   int64  \n",
      " 1   Height      1176 non-null   float64\n",
      " 2   weight      1176 non-null   int64  \n",
      " 3   BMI         1176 non-null   int64  \n",
      " 4   Class       1176 non-null   object \n",
      " 5   Prediction  1176 non-null   object \n",
      " 6   Unnamed: 6  0 non-null      float64\n",
      "dtypes: float64(2), int64(3), object(2)\n",
      "memory usage: 64.4+ KB\n"
     ]
    }
   ],
   "source": [
    "data.info()"
   ]
  },
  {
   "cell_type": "code",
   "execution_count": 4,
   "id": "c58ac07e",
   "metadata": {},
   "outputs": [
    {
     "data": {
      "text/html": [
       "<div>\n",
       "<style scoped>\n",
       "    .dataframe tbody tr th:only-of-type {\n",
       "        vertical-align: middle;\n",
       "    }\n",
       "\n",
       "    .dataframe tbody tr th {\n",
       "        vertical-align: top;\n",
       "    }\n",
       "\n",
       "    .dataframe thead th {\n",
       "        text-align: right;\n",
       "    }\n",
       "</style>\n",
       "<table border=\"1\" class=\"dataframe\">\n",
       "  <thead>\n",
       "    <tr style=\"text-align: right;\">\n",
       "      <th></th>\n",
       "      <th>Age</th>\n",
       "      <th>Height</th>\n",
       "      <th>weight</th>\n",
       "      <th>BMI</th>\n",
       "      <th>Class</th>\n",
       "      <th>Prediction</th>\n",
       "      <th>Unnamed: 6</th>\n",
       "    </tr>\n",
       "  </thead>\n",
       "  <tbody>\n",
       "    <tr>\n",
       "      <th>0</th>\n",
       "      <td>48</td>\n",
       "      <td>4.1</td>\n",
       "      <td>86</td>\n",
       "      <td>40</td>\n",
       "      <td>Extremely obese</td>\n",
       "      <td>Extremely obese--normal exercise+yoga+heavy di...</td>\n",
       "      <td>NaN</td>\n",
       "    </tr>\n",
       "    <tr>\n",
       "      <th>1</th>\n",
       "      <td>53</td>\n",
       "      <td>4.1</td>\n",
       "      <td>91</td>\n",
       "      <td>42</td>\n",
       "      <td>Extremely obese</td>\n",
       "      <td>Extremely obese--normal exercise+yoga+heavy di...</td>\n",
       "      <td>NaN</td>\n",
       "    </tr>\n",
       "    <tr>\n",
       "      <th>2</th>\n",
       "      <td>42</td>\n",
       "      <td>4.1</td>\n",
       "      <td>95</td>\n",
       "      <td>44</td>\n",
       "      <td>Extremely obese</td>\n",
       "      <td>Extremely obese--normal exercise+yoga+heavy di...</td>\n",
       "      <td>NaN</td>\n",
       "    </tr>\n",
       "    <tr>\n",
       "      <th>3</th>\n",
       "      <td>48</td>\n",
       "      <td>4.1</td>\n",
       "      <td>100</td>\n",
       "      <td>46</td>\n",
       "      <td>Extremely obese</td>\n",
       "      <td>Extremely obese--normal exercise+yoga+heavy di...</td>\n",
       "      <td>NaN</td>\n",
       "    </tr>\n",
       "    <tr>\n",
       "      <th>4</th>\n",
       "      <td>22</td>\n",
       "      <td>4.1</td>\n",
       "      <td>104</td>\n",
       "      <td>48</td>\n",
       "      <td>Extremely obese</td>\n",
       "      <td>Extremely obese--normal exercise+yoga+heavy di...</td>\n",
       "      <td>NaN</td>\n",
       "    </tr>\n",
       "  </tbody>\n",
       "</table>\n",
       "</div>"
      ],
      "text/plain": [
       "   Age  Height  weight  BMI            Class  \\\n",
       "0   48     4.1      86   40  Extremely obese   \n",
       "1   53     4.1      91   42  Extremely obese   \n",
       "2   42     4.1      95   44  Extremely obese   \n",
       "3   48     4.1     100   46  Extremely obese   \n",
       "4   22     4.1     104   48  Extremely obese   \n",
       "\n",
       "                                          Prediction  Unnamed: 6  \n",
       "0  Extremely obese--normal exercise+yoga+heavy di...         NaN  \n",
       "1  Extremely obese--normal exercise+yoga+heavy di...         NaN  \n",
       "2  Extremely obese--normal exercise+yoga+heavy di...         NaN  \n",
       "3  Extremely obese--normal exercise+yoga+heavy di...         NaN  \n",
       "4  Extremely obese--normal exercise+yoga+heavy di...         NaN  "
      ]
     },
     "execution_count": 4,
     "metadata": {},
     "output_type": "execute_result"
    }
   ],
   "source": [
    "data.head()"
   ]
  },
  {
   "cell_type": "code",
   "execution_count": 5,
   "id": "fd52bbd2",
   "metadata": {},
   "outputs": [],
   "source": [
    "df = data.copy()\n",
    "del df['BMI']\n",
    "del df['Class']\n",
    "del df['Unnamed: 6']\n",
    "label_encoder = LabelEncoder()\n",
    "df['Prediction'] = label_encoder.fit_transform(df['Prediction'])"
   ]
  },
  {
   "cell_type": "code",
   "execution_count": 6,
   "id": "003938e3",
   "metadata": {},
   "outputs": [
    {
     "data": {
      "text/html": [
       "<div>\n",
       "<style scoped>\n",
       "    .dataframe tbody tr th:only-of-type {\n",
       "        vertical-align: middle;\n",
       "    }\n",
       "\n",
       "    .dataframe tbody tr th {\n",
       "        vertical-align: top;\n",
       "    }\n",
       "\n",
       "    .dataframe thead th {\n",
       "        text-align: right;\n",
       "    }\n",
       "</style>\n",
       "<table border=\"1\" class=\"dataframe\">\n",
       "  <thead>\n",
       "    <tr style=\"text-align: right;\">\n",
       "      <th></th>\n",
       "      <th>Age</th>\n",
       "      <th>Height</th>\n",
       "      <th>weight</th>\n",
       "      <th>Prediction</th>\n",
       "    </tr>\n",
       "  </thead>\n",
       "  <tbody>\n",
       "    <tr>\n",
       "      <th>0</th>\n",
       "      <td>48</td>\n",
       "      <td>4.1</td>\n",
       "      <td>86</td>\n",
       "      <td>0</td>\n",
       "    </tr>\n",
       "    <tr>\n",
       "      <th>1</th>\n",
       "      <td>53</td>\n",
       "      <td>4.1</td>\n",
       "      <td>91</td>\n",
       "      <td>0</td>\n",
       "    </tr>\n",
       "    <tr>\n",
       "      <th>2</th>\n",
       "      <td>42</td>\n",
       "      <td>4.1</td>\n",
       "      <td>95</td>\n",
       "      <td>0</td>\n",
       "    </tr>\n",
       "    <tr>\n",
       "      <th>3</th>\n",
       "      <td>48</td>\n",
       "      <td>4.1</td>\n",
       "      <td>100</td>\n",
       "      <td>0</td>\n",
       "    </tr>\n",
       "    <tr>\n",
       "      <th>4</th>\n",
       "      <td>22</td>\n",
       "      <td>4.1</td>\n",
       "      <td>104</td>\n",
       "      <td>0</td>\n",
       "    </tr>\n",
       "    <tr>\n",
       "      <th>...</th>\n",
       "      <td>...</td>\n",
       "      <td>...</td>\n",
       "      <td>...</td>\n",
       "      <td>...</td>\n",
       "    </tr>\n",
       "    <tr>\n",
       "      <th>1171</th>\n",
       "      <td>50</td>\n",
       "      <td>6.9</td>\n",
       "      <td>59</td>\n",
       "      <td>4</td>\n",
       "    </tr>\n",
       "    <tr>\n",
       "      <th>1172</th>\n",
       "      <td>49</td>\n",
       "      <td>6.9</td>\n",
       "      <td>64</td>\n",
       "      <td>4</td>\n",
       "    </tr>\n",
       "    <tr>\n",
       "      <th>1173</th>\n",
       "      <td>52</td>\n",
       "      <td>6.9</td>\n",
       "      <td>68</td>\n",
       "      <td>4</td>\n",
       "    </tr>\n",
       "    <tr>\n",
       "      <th>1174</th>\n",
       "      <td>36</td>\n",
       "      <td>6.9</td>\n",
       "      <td>73</td>\n",
       "      <td>4</td>\n",
       "    </tr>\n",
       "    <tr>\n",
       "      <th>1175</th>\n",
       "      <td>26</td>\n",
       "      <td>6.9</td>\n",
       "      <td>77</td>\n",
       "      <td>4</td>\n",
       "    </tr>\n",
       "  </tbody>\n",
       "</table>\n",
       "<p>1176 rows × 4 columns</p>\n",
       "</div>"
      ],
      "text/plain": [
       "      Age  Height  weight  Prediction\n",
       "0      48     4.1      86           0\n",
       "1      53     4.1      91           0\n",
       "2      42     4.1      95           0\n",
       "3      48     4.1     100           0\n",
       "4      22     4.1     104           0\n",
       "...   ...     ...     ...         ...\n",
       "1171   50     6.9      59           4\n",
       "1172   49     6.9      64           4\n",
       "1173   52     6.9      68           4\n",
       "1174   36     6.9      73           4\n",
       "1175   26     6.9      77           4\n",
       "\n",
       "[1176 rows x 4 columns]"
      ]
     },
     "execution_count": 6,
     "metadata": {},
     "output_type": "execute_result"
    }
   ],
   "source": [
    "df"
   ]
  },
  {
   "cell_type": "code",
   "execution_count": 7,
   "id": "f4d37477",
   "metadata": {},
   "outputs": [],
   "source": [
    "X = df.iloc[:,:-1]\n",
    "y = df.iloc[:,-1]\n",
    "\n"
   ]
  },
  {
   "cell_type": "code",
   "execution_count": 8,
   "id": "9add54cb",
   "metadata": {},
   "outputs": [],
   "source": [
    "from sklearn.model_selection import train_test_split\n",
    "\n",
    "X_train, X_test, y_train, y_test = train_test_split(X,y, test_size=0.2, random_state=0)"
   ]
  },
  {
   "cell_type": "code",
   "execution_count": 9,
   "id": "36f568d6",
   "metadata": {},
   "outputs": [
    {
     "name": "stdout",
     "output_type": "stream",
     "text": [
      "RandomForestClassifier(n_estimators=20)\n"
     ]
    }
   ],
   "source": [
    "model_GYM = RandomForestClassifier(n_estimators=20)\n",
    "\n",
    "model_GYM.fit(X_train, y_train)\n",
    "\n",
    "print(model_GYM)"
   ]
  },
  {
   "cell_type": "code",
   "execution_count": 14,
   "id": "a55c8b77",
   "metadata": {},
   "outputs": [],
   "source": [
    " #make predictions\n",
    "expected = y_test\n",
    "predicted = model_GYM.predict(X_test)\n",
    "# summarize the fit of the model\n",
    "\n"
   ]
  },
  {
   "cell_type": "code",
   "execution_count": 16,
   "id": "d414b7b4",
   "metadata": {},
   "outputs": [
    {
     "name": "stdout",
     "output_type": "stream",
     "text": [
      "              precision    recall  f1-score   support\n",
      "\n",
      "           0       0.88      0.97      0.92        36\n",
      "           1       0.69      0.78      0.73        49\n",
      "           2       0.85      0.85      0.85        53\n",
      "           3       0.74      0.61      0.67        46\n",
      "           4       0.90      0.87      0.88        52\n",
      "\n",
      "    accuracy                           0.81       236\n",
      "   macro avg       0.81      0.81      0.81       236\n",
      "weighted avg       0.81      0.81      0.81       236\n",
      "\n",
      "[[35  0  1  0  0]\n",
      " [ 0 38  0  7  4]\n",
      " [ 5  0 45  3  0]\n",
      " [ 0 10  7 28  1]\n",
      " [ 0  7  0  0 45]]\n"
     ]
    }
   ],
   "source": [
    "#Correction\n",
    "print(metrics.classification_report(expected, predicted))\n",
    "print(metrics.confusion_matrix(expected, predicted))"
   ]
  },
  {
   "cell_type": "code",
   "execution_count": 12,
   "id": "2bd1382b",
   "metadata": {},
   "outputs": [
    {
     "name": "stdout",
     "output_type": "stream",
     "text": [
      "[1]\n"
     ]
    }
   ],
   "source": [
    "import pickle\n",
    "\n",
    "pickle.dump(model_GYM, open(\"Model_GYM.pkl\", \"wb\"))\n",
    "\n",
    "model = pickle.load(open(\"Model_GYM.pkl\", \"rb\"))\n",
    "\n",
    "print(model.predict([[40,5.6,70]]))\n"
   ]
  }
 ],
 "metadata": {
  "kernelspec": {
   "display_name": "Python 3",
   "language": "python",
   "name": "python3"
  },
  "language_info": {
   "codemirror_mode": {
    "name": "ipython",
    "version": 3
   },
   "file_extension": ".py",
   "mimetype": "text/x-python",
   "name": "python",
   "nbconvert_exporter": "python",
   "pygments_lexer": "ipython3",
   "version": "3.8.8"
  }
 },
 "nbformat": 4,
 "nbformat_minor": 5
}
